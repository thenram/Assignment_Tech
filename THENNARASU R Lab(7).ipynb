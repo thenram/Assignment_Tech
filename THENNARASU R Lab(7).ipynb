{
 "cells": [
  {
   "cell_type": "markdown",
   "id": "8b8d0552",
   "metadata": {},
   "source": [
    "# EDUNET FOUNDATION - Self-Practice Exercise Notebook "
   ]
  },
  {
   "cell_type": "markdown",
   "id": "a63c368d",
   "metadata": {},
   "source": [
    "# LAB 7- Python Connection with Database"
   ]
  },
  {
   "cell_type": "markdown",
   "id": "022abb11",
   "metadata": {},
   "source": [
    "Problem 1 create a table named EMPLOYEE in MySQL with five columns namely, FIRST_NAME,AGE, SEX and, INCOME."
   ]
  },
  {
   "cell_type": "code",
   "execution_count": 19,
   "id": "c9f933d8",
   "metadata": {},
   "outputs": [],
   "source": [
    "import mysql.connector\n",
    "\n",
    "mydb = mysql.connector.connect(\n",
    "    host=\"localhost\",\n",
    "    user=\"root\",\n",
    "    password=\"\",\n",
    "    database = \"test\"\n",
    ")\n",
    "\n",
    "cursor = mydb.cursor()\n",
    "\n",
    "create_table_sql = \"\"\"CREATE TABLE IF NOT EXISTS EMPLOYEE (\n",
    "                        FIRST_NAME VARCHAR(50),\n",
    "                        AGE INT(10),\n",
    "                        SEX VARCHAR(5),\n",
    "                        INCOME FLOAT(10,2)\n",
    "                    )\"\"\"\n",
    "cursor.execute(create_table_sql)\n",
    "\n",
    "insert_data_sql = \"\"\"INSERT INTO EMPLOYEE (FIRST_NAME, AGE, SEX, INCOME) \n",
    "                     VALUES (%s, %s, %s, %s)\"\"\"\n",
    "data = [('THENNARASU', 19, 'MALE', 1500.00),\n",
    "        ('RAHUL', 21, 'MALE', 2000.50),\n",
    "        ('SIVA', 20, 'MALE', 4000.00)]\n",
    "\n",
    "cursor.executemany(insert_data_sql, data)\n"
   ]
  },
  {
   "cell_type": "markdown",
   "id": "231298b8",
   "metadata": {},
   "source": [
    "Problem 2: Display created table using SELECT"
   ]
  },
  {
   "cell_type": "code",
   "execution_count": 20,
   "id": "d15ff31d",
   "metadata": {},
   "outputs": [
    {
     "name": "stdout",
     "output_type": "stream",
     "text": [
      "('THENNARASU', 19, 'MALE', 1500.0)\n",
      "('RAHUL', 21, 'MALE', 2000.5)\n",
      "('SIVA', 20, 'MALE', 4000.0)\n"
     ]
    }
   ],
   "source": [
    "select_query = \"SELECT * FROM EMPLOYEE\"\n",
    "cursor.execute(select_query)\n",
    "results = cursor.fetchall()\n",
    "for row in results:\n",
    "    print(row)\n"
   ]
  },
  {
   "cell_type": "markdown",
   "id": "a139eaec",
   "metadata": {},
   "source": [
    "Problem 3:Write a MySQL statement which retrieves the records of the employees whose income is greater than 4000."
   ]
  },
  {
   "cell_type": "code",
   "execution_count": 21,
   "id": "5d0a2770",
   "metadata": {},
   "outputs": [
    {
     "name": "stdout",
     "output_type": "stream",
     "text": [
      "('THENNARASU', 19, 'MALE', 1500.0)\n",
      "('RAHUL', 21, 'MALE', 2000.5)\n"
     ]
    }
   ],
   "source": [
    "select_query = \"SELECT * FROM EMPLOYEE WHERE INCOME < 4000\"\n",
    "cursor.execute(select_query)\n",
    "results = cursor.fetchall()\n",
    "for row in results:\n",
    "    print(row)\n",
    "mydb.commit()\n",
    "mydb.close()"
   ]
  }
 ],
 "metadata": {
  "kernelspec": {
   "display_name": "Python 3 (ipykernel)",
   "language": "python",
   "name": "python3"
  },
  "language_info": {
   "codemirror_mode": {
    "name": "ipython",
    "version": 3
   },
   "file_extension": ".py",
   "mimetype": "text/x-python",
   "name": "python",
   "nbconvert_exporter": "python",
   "pygments_lexer": "ipython3",
   "version": "3.11.3"
  }
 },
 "nbformat": 4,
 "nbformat_minor": 5
}
