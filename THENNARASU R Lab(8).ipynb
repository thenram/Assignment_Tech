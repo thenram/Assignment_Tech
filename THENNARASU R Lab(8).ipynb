{
 "cells": [
  {
   "cell_type": "markdown",
   "id": "603dfe2c",
   "metadata": {},
   "source": [
    "## EDUNET FOUNDATION - Self-Practice Exercise Notebook"
   ]
  },
  {
   "cell_type": "markdown",
   "id": "c3e375f7",
   "metadata": {},
   "source": [
    "### LAB 8 - Implementing Numpy Concepts in Python"
   ]
  },
  {
   "cell_type": "markdown",
   "id": "49e7b23c",
   "metadata": {},
   "source": [
    "Problem 1: Write a NumPy program to test whether none of the elements of a given array are zero."
   ]
  },
  {
   "cell_type": "code",
   "execution_count": 2,
   "id": "e99c48cb",
   "metadata": {},
   "outputs": [
    {
     "name": "stdout",
     "output_type": "stream",
     "text": [
      "This Array don't Contains Zeros\n",
      "This array Contains Zeros\n"
     ]
    }
   ],
   "source": [
    "import numpy as np\n",
    "n=np.array([1,2,3,4,5])\n",
    "m=np.array([0,1,2,3,4])\n",
    "for i in n:\n",
    "    if i==0:\n",
    "        res=\"This Array Contains Zeros\"\n",
    "        break\n",
    "    else:\n",
    "        res=\"This Array don't Contains Zeros\"\n",
    "print(res)\n",
    "for i in m:\n",
    "    if i==0:\n",
    "        res=\"This array Contains Zeros\"\n",
    "        break\n",
    "    else:\n",
    "        res=\"This array don't Contains Zeros\"\n",
    "print(res)"
   ]
  },
  {
   "cell_type": "markdown",
   "id": "3f406bde",
   "metadata": {},
   "source": [
    "Problem 2: Write a NumPy program to create an array of 10 zeros, 10 ones, and 10 fives. "
   ]
  },
  {
   "cell_type": "code",
   "execution_count": 3,
   "id": "dc28d213",
   "metadata": {},
   "outputs": [
    {
     "name": "stdout",
     "output_type": "stream",
     "text": [
      "[0. 0. 0. 0. 0. 0. 0. 0. 0. 0.]\n",
      "[1. 1. 1. 1. 1. 1. 1. 1. 1. 1.]\n",
      "[5. 5. 5. 5. 5. 5. 5. 5. 5. 5. 5.]\n"
     ]
    }
   ],
   "source": [
    "print(np.zeros(10))\n",
    "print(np.ones(10))\n",
    "n=np.array([])\n",
    "for _ in range(11):\n",
    "    n=np.append(n,5)\n",
    "print(n)\n",
    "    "
   ]
  },
  {
   "cell_type": "markdown",
   "id": "60056cc8",
   "metadata": {},
   "source": [
    "Problem 3: Write a NumPy program to generate an array of 15 random numbers from a standard normal distribution."
   ]
  },
  {
   "cell_type": "code",
   "execution_count": 4,
   "id": "2874b8a4",
   "metadata": {},
   "outputs": [
    {
     "name": "stdout",
     "output_type": "stream",
     "text": [
      "[ 0.25889011 -1.84304367 -0.42453601 -1.57249314  0.83866837  0.26592837\n",
      "  0.37879086  0.17860457  1.88793565  1.07828669  0.64780387 -1.33545529\n",
      "  0.75431657 -1.46624501 -0.40979214]\n"
     ]
    }
   ],
   "source": [
    "import numpy as np\n",
    "r = np.random.randn(15)\n",
    "print(r)"
   ]
  },
  {
   "cell_type": "markdown",
   "id": "6031b4ab",
   "metadata": {},
   "source": [
    "Problem 4: Write a NumPy program to create a two-dimensional array with shape (8,5) of random numbers. Select random numbers from a normal distribution (200,7)."
   ]
  },
  {
   "cell_type": "code",
   "execution_count": 6,
   "id": "19065db9",
   "metadata": {},
   "outputs": [
    {
     "name": "stdout",
     "output_type": "stream",
     "text": [
      "[[190.79391499 207.34942648 207.24854575 201.03859084 214.70131065]\n",
      " [200.49209545 195.75395062 203.90712826 200.29039356 204.36277398]\n",
      " [189.8443115  198.8074204  210.24427997 206.88660963 196.62912595]\n",
      " [197.48625816 194.63453916 190.70450673 202.03426461 207.66369074]\n",
      " [193.68964651 187.01992949 184.6115333  213.58448099 194.15825674]\n",
      " [193.66804781 199.9441088  191.190336   200.7600042  192.98720487]\n",
      " [195.48204237 199.9634629  210.66362407 206.88450739 202.87780463]\n",
      " [218.5558935  197.89981312 204.16717572 197.33630311 201.14716079]]\n"
     ]
    }
   ],
   "source": [
    "import numpy as np\n",
    "mean = 200\n",
    "std_dev = 7\n",
    "random_numbers = np.random.normal(mean, std_dev, (8, 5))\n",
    "print(random_numbers)"
   ]
  },
  {
   "cell_type": "markdown",
   "id": "d3273c29",
   "metadata": {},
   "source": [
    "Problem 5: Write a NumPy program to create a 4x4 array. Create an array from said array by swapping first and last, second and third columns."
   ]
  },
  {
   "cell_type": "code",
   "execution_count": 8,
   "id": "7cfe495c",
   "metadata": {},
   "outputs": [
    {
     "name": "stdout",
     "output_type": "stream",
     "text": [
      "Original Array:\n",
      "[[ 1  2  3  4]\n",
      " [ 5  6  7  8]\n",
      " [ 9 10 11 12]\n",
      " [13 14 15 16]]\n",
      "\n",
      "Swapped Array:\n",
      "[[ 4  2  3  1]\n",
      " [ 8  6  7  5]\n",
      " [12 10 11  9]\n",
      " [16 14 15 13]]\n"
     ]
    }
   ],
   "source": [
    "import numpy as np\n",
    "original_array = np.array([\n",
    "    [1, 2, 3, 4],\n",
    "    [5, 6, 7, 8],\n",
    "    [9, 10, 11, 12],\n",
    "    [13, 14, 15, 16]\n",
    "])\n",
    "swapped_array = original_array[:, [3, 1, 2, 0]]\n",
    "print(\"Original Array:\")\n",
    "print(original_array)\n",
    "print(\"\\nSwapped Array:\")\n",
    "print(swapped_array)"
   ]
  },
  {
   "cell_type": "markdown",
   "id": "a572703e",
   "metadata": {},
   "source": [
    "Problem 6: Write a NumPy program to swap rows and columns of a given array in reverse order."
   ]
  },
  {
   "cell_type": "code",
   "execution_count": 9,
   "id": "d6399e57",
   "metadata": {},
   "outputs": [
    {
     "name": "stdout",
     "output_type": "stream",
     "text": [
      "Original Array:\n",
      "[[ 1  2  3  4]\n",
      " [ 5  6  7  8]\n",
      " [ 9 10 11 12]\n",
      " [13 14 15 16]]\n",
      "\n",
      "Swapped Array:\n",
      "[[16 15 14 13]\n",
      " [12 11 10  9]\n",
      " [ 8  7  6  5]\n",
      " [ 4  3  2  1]]\n"
     ]
    }
   ],
   "source": [
    "import numpy as np\n",
    "original_array = np.array([\n",
    "    [1, 2, 3, 4],\n",
    "    [5, 6, 7, 8],\n",
    "    [9, 10, 11, 12],\n",
    "    [13, 14, 15, 16]\n",
    "])\n",
    "reversed_rows = original_array[::-1]\n",
    "reversed_columns = original_array[:, ::-1]\n",
    "swapped_array = reversed_rows[:, ::-1]\n",
    "print(\"Original Array:\")\n",
    "print(original_array)\n",
    "print(\"\\nSwapped Array:\")\n",
    "print(swapped_array)"
   ]
  },
  {
   "cell_type": "markdown",
   "id": "084cc294",
   "metadata": {},
   "source": [
    "Problem 7: Write a NumPy program to multiply two given arrays of the same size element-by-element."
   ]
  },
  {
   "cell_type": "code",
   "execution_count": 11,
   "id": "5192a4fb",
   "metadata": {},
   "outputs": [
    {
     "name": "stdout",
     "output_type": "stream",
     "text": [
      "[[ 5 12]\n",
      " [21 32]]\n"
     ]
    }
   ],
   "source": [
    "import numpy as np\n",
    "arr1 = np.array([[1, 2], [3, 4]])\n",
    "arr2 = np.array([[5, 6], [7, 8]])\n",
    "res = arr1 * arr2\n",
    "print(res)"
   ]
  },
  {
   "cell_type": "markdown",
   "id": "cece8212",
   "metadata": {},
   "source": [
    "Problem 8: Write a NumPy program to create a 3x3 matrix with values ranging from 2 to 10."
   ]
  },
  {
   "cell_type": "code",
   "execution_count": 12,
   "id": "c651fee4",
   "metadata": {},
   "outputs": [
    {
     "name": "stdout",
     "output_type": "stream",
     "text": [
      "[[ 2  3  4]\n",
      " [ 5  6  7]\n",
      " [ 8  9 10]]\n"
     ]
    }
   ],
   "source": [
    "import numpy as np\n",
    "values = np.arange(2, 11)\n",
    "mat = values.reshape(3, 3)\n",
    "print(mat)"
   ]
  },
  {
   "cell_type": "markdown",
   "id": "f6ed22c3",
   "metadata": {},
   "source": [
    "Problem 9: Write a NumPy program to create a 3x3x3 array with random values.\n",
    "Expected Output:\n",
    "\n",
    "[[[ 0.48941799 0.58722213 0.43453926]\n",
    "[ 0.94497547 0.81081709 0.1510409 ]\n",
    "[ 0.66657127 0.29494755 0.48047144]]\n",
    "[[ 0.02287253 0.95232614 0.32264936]\n",
    "[ 0.67009741 0.25458304 0.16290913]\n",
    "[ 0.15520198 0.86826529 0.9679322 ]]\n",
    "[[ 0.13503103 0.02042211 0.24683897]\n",
    "[ 0.97852158 0.22374748 0.10798856]\n",
    "[ 0.62032646 0.5893892 0.16958144]]]"
   ]
  },
  {
   "cell_type": "code",
   "execution_count": 21,
   "id": "c6d00ffa",
   "metadata": {},
   "outputs": [
    {
     "name": "stdout",
     "output_type": "stream",
     "text": [
      "[[[0.41742547 0.02181609 0.83291539]\n",
      "  [0.09774561 0.84377275 0.54654973]\n",
      "  [0.28765095 0.53461106 0.93814954]]\n",
      "\n",
      " [[0.05038161 0.89867239 0.45420517]\n",
      "  [0.34716367 0.65433008 0.58786461]\n",
      "  [0.63928362 0.51211792 0.07588284]]\n",
      "\n",
      " [[0.41174461 0.27694256 0.36054077]\n",
      "  [0.06480478 0.70963324 0.06484372]\n",
      "  [0.13355717 0.47673193 0.34348882]]]\n"
     ]
    }
   ],
   "source": [
    "import numpy as np\n",
    "r = np.random.rand(3, 3, 3)\n",
    "print(r)"
   ]
  },
  {
   "cell_type": "markdown",
   "id": "3be0503b",
   "metadata": {},
   "source": [
    "Problem 10: Write a Python program to find the maximum and minimum value of a given flattened array."
   ]
  },
  {
   "cell_type": "code",
   "execution_count": 23,
   "id": "cca088a0",
   "metadata": {},
   "outputs": [
    {
     "name": "stdout",
     "output_type": "stream",
     "text": [
      "Maximum value: 9\n",
      "Minimum value: 1\n"
     ]
    }
   ],
   "source": [
    "import numpy as np\n",
    "array = np.array([[1, 2, 3],\n",
    "                  [4, 5, 6],\n",
    "                  [7, 8, 9]])\n",
    "flattened_array = array.flatten()\n",
    "max_value = np.amax(flattened_array)\n",
    "min_value = np.amin(flattened_array)\n",
    "print(\"Maximum value:\", max_value)\n",
    "print(\"Minimum value:\", min_value)\n"
   ]
  },
  {
   "cell_type": "markdown",
   "id": "13b994ea",
   "metadata": {},
   "source": [
    "Problem 11: Write a NumPy program to add, subtract, multiply, divide arguments element-wise.     \n",
    "Expected Output:\n",
    "Add:\n",
    "5.0\n",
    "Subtract:\n",
    "-3.0\n",
    "Multiply:\n",
    "4.0\n",
    "Divide:\n",
    "0.25"
   ]
  },
  {
   "cell_type": "code",
   "execution_count": 25,
   "id": "9c9e8d26",
   "metadata": {},
   "outputs": [
    {
     "name": "stdout",
     "output_type": "stream",
     "text": [
      "Add: 5.0\n",
      "Subtract: -3.0\n",
      "Multiply: 4.0\n",
      "Divide: 0.25\n"
     ]
    }
   ],
   "source": [
    "n1=np.array([1])\n",
    "n2=np.array([4])\n",
    "print(\"Add:\",float(n1+n2))\n",
    "print(\"Subtract:\",float(n1-n2))\n",
    "print(\"Multiply:\",float(n1*n2))\n",
    "print(\"Divide:\",float(n1/n2))"
   ]
  },
  {
   "cell_type": "markdown",
   "id": "7c146966",
   "metadata": {},
   "source": [
    "Problem 12: Write a NumPy program to get the powers of an array values element-wise.\n",
    "Note: First array elements raised to powers from second array\n",
    "Expected Output:\n",
    "Original array\n",
    "[0 1 2 3 4 5 6]\n",
    "First array elements raised to powers from second array, element-wise:\n",
    "[ 0 1 8 27 64 125 216]"
   ]
  },
  {
   "cell_type": "code",
   "execution_count": 27,
   "id": "d941af99",
   "metadata": {},
   "outputs": [
    {
     "name": "stdout",
     "output_type": "stream",
     "text": [
      "[  0   1   8  27  64 125 216]\n"
     ]
    }
   ],
   "source": [
    "n1=np.array([0,1,2,3,4,5,6])\n",
    "n2=np.array([3])\n",
    "print(n1**n2)"
   ]
  },
  {
   "cell_type": "markdown",
   "id": "2c681bc5",
   "metadata": {},
   "source": [
    "Problem 13: Create a Python project to guess a number that has randomly selected."
   ]
  },
  {
   "cell_type": "code",
   "execution_count": 33,
   "id": "8ed2b940",
   "metadata": {},
   "outputs": [
    {
     "name": "stdout",
     "output_type": "stream",
     "text": [
      "Enter a random Number from 1 to 10:8\n",
      "you Guessed the wrong number. The random number is:7\n"
     ]
    }
   ],
   "source": [
    "n=np.random.randint(1,11)\n",
    "s=int(input(\"Enter a random Number from 1 to 10:\"))\n",
    "if n==s:\n",
    "      print(\"You Gussed the Correct Number\")\n",
    "else:\n",
    "      print(\"you Guessed the wrong number. The random number is:\"+str(n))"
   ]
  },
  {
   "cell_type": "markdown",
   "id": "ac4db926",
   "metadata": {},
   "source": [
    "Problem 14: Write a NumPy program to create a 2D array with 1 on the border and 0 inside.        \n",
    "Expected Output:\n",
    "Original array:\n",
    "[[ 1. 1. 1. 1. 1.]\n",
    "...................\n",
    "[ 1. 1. 1. 1. 1.]]\n",
    "1 on the border and 0 inside in the array\n",
    "[[ 1. 1. 1. 1. 1.]\n",
    "...................\n",
    "[ 1. 1. 1. 1. 1.]]"
   ]
  },
  {
   "cell_type": "code",
   "execution_count": 35,
   "id": "00fdc28c",
   "metadata": {},
   "outputs": [
    {
     "name": "stdout",
     "output_type": "stream",
     "text": [
      "array:\n",
      "[[1 1 1 1 1]\n",
      " [1 0 0 0 1]\n",
      " [1 0 0 0 1]\n",
      " [1 0 0 0 1]\n",
      " [1 1 1 1 1]]\n"
     ]
    }
   ],
   "source": [
    "import numpy as np\n",
    "rows, cols = 5, 5\n",
    "array = np.zeros((rows, cols))\n",
    "array[0, :] = 1  \n",
    "array[-1, :] = 1 \n",
    "array[:, 0] = 1  \n",
    "array[:, -1] = 1 \n",
    "print(\"array:\")\n",
    "print(array.astype(int))"
   ]
  },
  {
   "cell_type": "markdown",
   "id": "94da568d",
   "metadata": {},
   "source": [
    "Problem 15: Write a NumPy program to append values to the end of an array.                      \n",
    "Expected Output:\n",
    "Original array:\n",
    "[10, 20, 30]\n",
    "After append values to the end of the array:\n",
    "[10 20 30 40 50 60 70 80 90]"
   ]
  },
  {
   "cell_type": "code",
   "execution_count": 36,
   "id": "11d2ce98",
   "metadata": {},
   "outputs": [
    {
     "name": "stdout",
     "output_type": "stream",
     "text": [
      "[10 20 30 40 50 60 70 80 90]\n"
     ]
    }
   ],
   "source": [
    "arr=np.array([10,20,30])\n",
    "arr2=np.array([40,50,60,70,80,90])\n",
    "arr=np.append(arr,arr2)\n",
    "print(arr)"
   ]
  }
 ],
 "metadata": {
  "kernelspec": {
   "display_name": "Python 3 (ipykernel)",
   "language": "python",
   "name": "python3"
  },
  "language_info": {
   "codemirror_mode": {
    "name": "ipython",
    "version": 3
   },
   "file_extension": ".py",
   "mimetype": "text/x-python",
   "name": "python",
   "nbconvert_exporter": "python",
   "pygments_lexer": "ipython3",
   "version": "3.11.4"
  }
 },
 "nbformat": 4,
 "nbformat_minor": 5
}
